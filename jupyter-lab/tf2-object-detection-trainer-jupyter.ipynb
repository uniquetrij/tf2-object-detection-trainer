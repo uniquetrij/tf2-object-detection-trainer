{
 "cells": [
  {
   "cell_type": "markdown",
   "metadata": {},
   "source": [
    "# [Tensorflow-2 Object Detection Trainer](https://github.com/sglvladi/TensorFlowObjectDetectionTutorial/tree/725f22217178537030fde9492a7cdb0a7fff4d80)"
   ]
  },
  {
   "cell_type": "markdown",
   "metadata": {},
   "source": [
    "# Prerequisites\n",
    "\n",
    "We assume that this notebok will be run using __JupyterLab__ with __Anaconda__ environment on __Linux (Ubuntu)__ server. Although most part of it is independent of the above platform and frameworks, you may need to customize them a little to run on other environments.\n",
    "\n",
    "Installation of [JupyterLab](https://jupyter.org/) is simple. This notebook was tested on JupyterLab v3.0.9 and Python v3.8.5. You may use the following commands to install JupyterLab on a separate conda environment, say `jupyter-lab`,\n",
    "\n",
    "```bash\n",
    "conda install -c conda-forge jupyterlab=3.0\n",
    "```\n",
    "\n",
    "and to start JupyterLab, execute the following command.\n",
    "\n",
    "```bash\n",
    "jupyter lab --no-browser --ip=\"0.0.0.0\" --port=8989\n",
    "```\n",
    "\n",
    "We also assume that this notebook is placed at the root of your __tf2-object-detection-trainer__ project."
   ]
  },
  {
   "cell_type": "markdown",
   "metadata": {},
   "source": [
    "## Environment Setup and Kernel Installation\n",
    "\n",
    "If you have not created a separate conda environment for your __tf2-object-detection-trainer__ project using this notebook, it is recommended that you create one now. The following code-cells automatically installs the required dependencies for your environment. If you already have an environment, you may skip this step and moce on to __\"Environment Switch\"__ section."
   ]
  },
  {
   "cell_type": "markdown",
   "metadata": {},
   "source": [
    "#### Set Environment Name\n",
    "\n",
    "Set your preferred environment name below into the variable *`ENV_NAME`*, default is *`tf2-object-detection-trainer`*. This name will be used everywhere throughout the project."
   ]
  },
  {
   "cell_type": "code",
   "execution_count": null,
   "metadata": {},
   "outputs": [],
   "source": [
    "ENV_NAME = 'tf2-object-detection-trainer'"
   ]
  },
  {
   "cell_type": "markdown",
   "metadata": {},
   "source": [
    "#### Create Your Environment"
   ]
  },
  {
   "cell_type": "code",
   "execution_count": null,
   "metadata": {},
   "outputs": [],
   "source": [
    "!conda create --yes -n {ENV_NAME} pip python=3.8.5 jupyterlab=3.0"
   ]
  },
  {
   "cell_type": "markdown",
   "metadata": {},
   "source": [
    "#### Install iPython Kernel \n",
    "\n",
    "The following code cell will install your newly created conda environment as an iPython kernel to be used with Jupyter"
   ]
  },
  {
   "cell_type": "code",
   "execution_count": null,
   "metadata": {},
   "outputs": [],
   "source": [
    "import sys\n",
    "\n",
    "out = !conda env list | grep {ENV_NAME}\n",
    "env = out[0][out[0].index('/'):]\n",
    "\n",
    "!{env}/bin/python -m ipykernel install --prefix {sys.prefix} --name {ENV_NAME} --display-name {ENV_NAME}"
   ]
  },
  {
   "attachments": {
    "25996076-e36b-42fb-b83b-92f6cd2d6981.png": {
     "image/png": "[encoded data removed]"
    },
    "7b461799-18ed-4e20-8e4a-537b4f607cba.png": {
     "image/png": "[encoded data removed]"
    }
   },
   "cell_type": "markdown",
   "metadata": {},
   "source": [
    "## Environment Switch\n",
    "\n",
    "Now that your kernel is instaled, you'll need to change your Jupyter Notebook's python environment (kernel) to the one that you have created. You'll find the option to switch kernel on top-right of your notebook.\n",
    "\n",
    "<div><img src=\"attachment:25996076-e36b-42fb-b83b-92f6cd2d6981.png\" width=\"150\"></div>\n",
    "<div><img src=\"attachment:7b461799-18ed-4e20-8e4a-537b4f607cba.png\" width=\"150\"/></div>\n",
    "\n",
    "If you don't find your environment in the dropdown, try refreshing/restarting your Jupyter server.\n"
   ]
  },
  {
   "cell_type": "markdown",
   "metadata": {},
   "source": [
    "Confirm that you have successfully switched your kernel by the following code cell. It should print the *`ENV_NAME`* you had built earlier. If it prints something else, then the kernel switch wasn't successful. Fix it before proceeding further."
   ]
  },
  {
   "cell_type": "code",
   "execution_count": null,
   "metadata": {},
   "outputs": [],
   "source": [
    "import sys\n",
    "\n",
    "ENV_NAME = sys.prefix\n",
    "ENV_NAME = ENV_NAME[ENV_NAME.rindex('/')+1:]\n",
    "\n",
    "ENV_NAME"
   ]
  },
  {
   "cell_type": "markdown",
   "metadata": {},
   "source": [
    "## Object Detection API Installation\n",
    "\n",
    "Now that we have our environment ready, lets clone the *`tensorflow/models`* github repository. We'll switch to commit *`73ce096`* to so that our code doesn't break dur to subsequent updates in the repository. We'll put the cloned repo in a folder named *`tensorflow`*."
   ]
  },
  {
   "cell_type": "code",
   "execution_count": null,
   "metadata": {},
   "outputs": [],
   "source": [
    "# !rm -rf tensorflow\n",
    "!git clone https://github.com/tensorflow/models tensorflow/models 2> /dev/null\n",
    "!(cd tensorflow/models;git checkout 73ce096)"
   ]
  },
  {
   "cell_type": "markdown",
   "metadata": {},
   "source": [
    "## ProtocolBuffer Installation\n",
    "\n",
    "Now lets download and extract protobuf v3.13.0 into a folder named *`protoc`*"
   ]
  },
  {
   "cell_type": "code",
   "execution_count": null,
   "metadata": {},
   "outputs": [],
   "source": [
    "!wget https://github.com/protocolbuffers/protobuf/releases/download/v3.13.0/protoc-3.13.0-linux-x86_64.zip -c\n",
    "!unzip protoc-3.13.0-linux-x86_64.zip -d protoc"
   ]
  },
  {
   "cell_type": "markdown",
   "metadata": {},
   "source": [
    "We'll install protoc into *`tensorflow/models/research`*"
   ]
  },
  {
   "cell_type": "code",
   "execution_count": null,
   "metadata": {},
   "outputs": [],
   "source": [
    "from os import environ as export\n",
    "\n",
    "pwd = !pwd\n",
    "export['PATH'] += ':' + pwd[0] + '/protoc/bin'\n",
    "!(cd tensorflow/models/research;protoc object_detection/protos/*.proto --python_out=.)"
   ]
  },
  {
   "cell_type": "markdown",
   "metadata": {},
   "source": [
    "## Python Dependency Installation\n",
    "\n",
    "We will install all required python dependencies directly from this notebook. For this, we'll need a reference to the python executable of our conda environment."
   ]
  },
  {
   "cell_type": "code",
   "execution_count": null,
   "metadata": {},
   "outputs": [],
   "source": [
    "from sys import executable as python"
   ]
  },
  {
   "cell_type": "markdown",
   "metadata": {},
   "source": [
    "### Installing GPU Version\n",
    "\n",
    "We'll install TensorFlow-GPU version 2.4 and its dependency CUDAToolkit version 11.2"
   ]
  },
  {
   "cell_type": "code",
   "execution_count": null,
   "metadata": {
    "tags": []
   },
   "outputs": [],
   "source": [
    "!conda install --yes --prefix {sys.prefix} -c anaconda cudatoolkit=11.0 absl-py=0.10\n",
    "!{python} -m pip install tensorflow-gpu==2.4 python-util==1.2.1 absl-py"
   ]
  },
  {
   "cell_type": "markdown",
   "metadata": {},
   "source": [
    "#### cuDNN-8 Installation\n",
    "\n",
    "At the time of writing this script, Anaconda's cudatoolkit-11 does not automatically install cuDNN-8. Hence you'll need to install it manually.\n",
    "Download cuDNN-8 packages from [here](https://developer.nvidia.com/compute/machine-learning/cudnn/secure/8.1.0.77/11.2_20210127/cudnn-11.2-linux-x64-v8.1.0.77.tgz) and place it into your project's root. Once done, execute the following code-cell to set it up. "
   ]
  },
  {
   "cell_type": "code",
   "execution_count": null,
   "metadata": {
    "tags": []
   },
   "outputs": [],
   "source": [
    "!mkdir cuDNN8\n",
    "!tar -xzvf cudnn-11.2-linux-x64-v8.1.0.77.tgz -C cuDNN8\n",
    "!chmod a+x cuDNN8/cuda/include/cudnn*.h cuDNN8/cuda/lib64/libcudnn*"
   ]
  },
  {
   "cell_type": "markdown",
   "metadata": {},
   "source": [
    "### Installing Non-GPU Version\n",
    "\n",
    "Install TensorFlow version 2.4"
   ]
  },
  {
   "cell_type": "code",
   "execution_count": null,
   "metadata": {
    "tags": []
   },
   "outputs": [],
   "source": [
    "!{python} -m pip install tensorflow==2.4"
   ]
  },
  {
   "cell_type": "markdown",
   "metadata": {},
   "source": [
    "### Automatic Installation Of Other Dependencies\n",
    "\n",
    "Run the following code-cell to automatically install all other python dependencies."
   ]
  },
  {
   "cell_type": "code",
   "execution_count": null,
   "metadata": {
    "tags": []
   },
   "outputs": [],
   "source": [
    "!cp tensorflow/models/research/object_detection/packages/tf2/setup.py tensorflow/models/research/\n",
    "!{python} -m pip install tensorflow/models/research/"
   ]
  },
  {
   "cell_type": "markdown",
   "metadata": {},
   "source": [
    "### Manual Installation of Dependencies (Only if automatic installation fails)\n",
    "\n",
    "Run the following code-cell to manually install all other python dependencies."
   ]
  },
  {
   "cell_type": "code",
   "execution_count": null,
   "metadata": {},
   "outputs": [],
   "source": [
    "# !{python} -m pip install tf_slim==1.1.0 matplotlib==3.3.4 lvis==0.5.3 scipy==1.6.1 pyyaml==5.4.1 gin-config==0.4.0 tensorflow-addons==0.12.1 pandas==1.2.2"
   ]
  },
  {
   "cell_type": "markdown",
   "metadata": {},
   "source": [
    "### List Installed Packages\n",
    "\n",
    "You can use the following code-cell to list all dependencies in your environment"
   ]
  },
  {
   "cell_type": "code",
   "execution_count": null,
   "metadata": {
    "scrolled": true
   },
   "outputs": [],
   "source": [
    "!conda list --prefix {sys.prefix}"
   ]
  },
  {
   "cell_type": "markdown",
   "metadata": {},
   "source": [
    "### Uninstalling Dependencies\n",
    "\n",
    "If you ever want to remove a python package, you can use the following example"
   ]
  },
  {
   "cell_type": "code",
   "execution_count": null,
   "metadata": {},
   "outputs": [],
   "source": [
    "# !{python} -m pip uninstall -y tf_slim"
   ]
  },
  {
   "cell_type": "markdown",
   "metadata": {},
   "source": [
    "### PyCOCOTools Installation"
   ]
  },
  {
   "cell_type": "code",
   "execution_count": null,
   "metadata": {},
   "outputs": [],
   "source": [
    "!git clone https://github.com/cocodataset/cocoapi.git cocoapi 2> /dev/null\n",
    "!(cd cocoapi;git checkout 8c9bcc3)\n",
    "\n",
    "!conda install --yes --prefix {sys.prefix} cython\n",
    "!(cd cocoapi/PythonAPI/; printf 'conda activate {ENV_NAME}\\nmake\\n' | bash -i )\n",
    "\n",
    "!cp -r ./cocoapi/PythonAPI/pycocotools ./tensorflow/models/research/"
   ]
  },
  {
   "cell_type": "markdown",
   "metadata": {},
   "source": [
    "## Test Your Installation"
   ]
  },
  {
   "cell_type": "markdown",
   "metadata": {},
   "source": [
    "### cuDNN Reference for GPU "
   ]
  },
  {
   "cell_type": "code",
   "execution_count": null,
   "metadata": {},
   "outputs": [],
   "source": [
    "from os import environ as export\n",
    "export['LD_LIBRARY_PATH']='cuDNN8/cuda/lib64/:'"
   ]
  },
  {
   "cell_type": "markdown",
   "metadata": {},
   "source": [
    "### Test\n",
    "\n",
    "If the below code runs successfully, you have your environment ready."
   ]
  },
  {
   "cell_type": "code",
   "execution_count": null,
   "metadata": {},
   "outputs": [],
   "source": [
    "!{python} -c \"import tensorflow as tf;print(tf.reduce_sum(tf.random.normal([1000, 1000])))\""
   ]
  },
  {
   "cell_type": "markdown",
   "metadata": {},
   "source": [
    "## Done!"
   ]
  },
  {
   "cell_type": "markdown",
   "metadata": {},
   "source": [
    "Your setup is complete. Now you can start your training below."
   ]
  },
  {
   "cell_type": "markdown",
   "metadata": {
    "tags": []
   },
   "source": [
    "## Delete Environment and Remove Kernel\n",
    "\n",
    "If you want to delete kernels and conda environments from this notebook, you may use the following examples."
   ]
  },
  {
   "cell_type": "code",
   "execution_count": null,
   "metadata": {},
   "outputs": [],
   "source": [
    "ENV_NAME = 'tf2-object-detection-trainer'"
   ]
  },
  {
   "cell_type": "code",
   "execution_count": null,
   "metadata": {
    "scrolled": true,
    "tags": []
   },
   "outputs": [],
   "source": [
    "import sys\n",
    "!conda remove --yes --name {ENV_NAME} --all\n",
    "!rm -rf {sys.prefix}/share/jupyter/kernels/{ENV_NAME}\n",
    "!yes | jupyter kernelspec remove {ENV_NAME} "
   ]
  },
  {
   "cell_type": "code",
   "execution_count": null,
   "metadata": {
    "scrolled": true,
    "tags": []
   },
   "outputs": [],
   "source": [
    "# !conda clean --yes --all"
   ]
  },
  {
   "cell_type": "code",
   "execution_count": null,
   "metadata": {},
   "outputs": [],
   "source": [
    "!jupyter kernelspec list "
   ]
  },
  {
   "cell_type": "markdown",
   "metadata": {
    "tags": []
   },
   "source": [
    "# Training"
   ]
  },
  {
   "cell_type": "markdown",
   "metadata": {},
   "source": [
    "## Prerequisites\n",
    "\n",
    "We assume that this will be run using __JupyterLab__ with __Anaconda__ environment on __Linux (Ubuntu 18.04)__ server. Although most part of it is independent of the above platform and frameworks, you may need to customize them to run on other environments.\n",
    "\n",
    "At this point you should already have your data/images labeled/annotated. This script only helps in starting the model training pipeline and doesn't involve data annotation. For getting your images annotated, you may use [LabelImg](https://github.com/tzutalin/labelImg)."
   ]
  },
  {
   "cell_type": "markdown",
   "metadata": {},
   "source": [
    "Confirm that you using the correct kernel for your object detection pipeline. The following code-cell should print the ENV_NAME you had built earlier using the [setup.ipynb](../setup.ipynb). If it prints something else, switch your kernel to the desired one."
   ]
  },
  {
   "cell_type": "code",
   "execution_count": null,
   "metadata": {},
   "outputs": [],
   "source": [
    "import sys\n",
    "\n",
    "%mkdir -p targets\n",
    "%cd targets\n",
    "\n",
    "ENV_NAME = sys.prefix\n",
    "ENV_NAME = ENV_NAME[ENV_NAME.rindex('/')+1:]\n",
    "\n",
    "ENV_NAME"
   ]
  },
  {
   "cell_type": "markdown",
   "metadata": {},
   "source": [
    "## Target Selection And Project Structure\n",
    "\n",
    "Select your target folder for your object detection training project."
   ]
  },
  {
   "cell_type": "code",
   "execution_count": null,
   "metadata": {},
   "outputs": [],
   "source": [
    "TARGET = 'pepsico-detection'"
   ]
  },
  {
   "cell_type": "markdown",
   "metadata": {},
   "source": [
    "### Build Your Project Structure\n",
    "\n",
    "Below is the default names of the folders inside your project folder. You may leave them as is. This script automatically builds the project structure for you."
   ]
  },
  {
   "cell_type": "code",
   "execution_count": null,
   "metadata": {},
   "outputs": [],
   "source": [
    "ANNOTATIONS = 'annotations'\n",
    "EXPORTED = 'exported-models'\n",
    "IMAGES = 'images'\n",
    "TEST_DATA = 'test'\n",
    "TRAIN_DATA = 'train'\n",
    "LABEL_MAP = 'label_map.pbtxt'\n",
    "MODELS = 'models'\n",
    "INFERENCE = 'inference'\n",
    "PRETRAINED = '.pre-trained-models'"
   ]
  },
  {
   "cell_type": "code",
   "execution_count": null,
   "metadata": {},
   "outputs": [],
   "source": [
    "!mkdir -p {TARGET}/{IMAGES}/{TEST_DATA}\n",
    "!mkdir -p {TARGET}/{IMAGES}/{TRAIN_DATA}\n",
    "!mkdir -p {TARGET}/{ANNOTATIONS}\n",
    "!mkdir -p {TARGET}/{EXPORTED}\n",
    "!mkdir -p {TARGET}/{MODELS}\n",
    "!mkdir -p {TARGET}/{INFERENCE}\n",
    "!mkdir -p {PRETRAINED}"
   ]
  },
  {
   "cell_type": "markdown",
   "metadata": {},
   "source": [
    "Here we'll set reference to tensorflow's `objec-detection` folder's parent in the variable *`TF_OD_PATH`*. If you are following the instructions of these scripts it should be *`../tensorflow/models/research`*."
   ]
  },
  {
   "cell_type": "code",
   "execution_count": null,
   "metadata": {},
   "outputs": [],
   "source": [
    "TF_OD_PATH = '../tensorflow/models/research'\n",
    "\n",
    "import sys\n",
    "from sys import executable as python\n",
    "from os import environ as export"
   ]
  },
  {
   "cell_type": "markdown",
   "metadata": {},
   "source": [
    "## Import Images and Labels\n",
    "\n",
    "You'll need to manually copy your images and labels into the `images` folder of your target project. You need not split your data manually. The following code section does that for you. "
   ]
  },
  {
   "cell_type": "code",
   "execution_count": null,
   "metadata": {},
   "outputs": [],
   "source": [
    "!wget https://raw.githubusercontent.com/sglvladi/TensorFlowObjectDetectionTutorial/725f22217178537030fde9492a7cdb0a7fff4d80/docs/source/scripts/partition_dataset.py -c       \n",
    "\n",
    "FRACTION_OF_TEST_DATA = 0.1\n",
    "\n",
    "!{python} partition_dataset.py -x -i {TARGET}/{IMAGES} -r {FRACTION_OF_TEST_DATA}"
   ]
  },
  {
   "cell_type": "markdown",
   "metadata": {},
   "source": [
    "## Create Your Label Map"
   ]
  },
  {
   "cell_type": "code",
   "execution_count": null,
   "metadata": {},
   "outputs": [],
   "source": [
    "def get_labels():\n",
    "    from xml.dom import minidom\n",
    "    import glob\n",
    "    objects = set()\n",
    "    xmls = glob.glob('{}/{}/*.xml'.format(TARGET,IMAGES))\n",
    "\n",
    "    for xml in xmls:\n",
    "        xmldoc = minidom.parse(xml)\n",
    "        itemlist = xmldoc.getElementsByTagName('name')\n",
    "        for item in itemlist:\n",
    "            objects.add(item.firstChild.nodeValue)\n",
    "    return objects\n",
    "\n",
    "def generate_labemlap():\n",
    "    global labels\n",
    "    \n",
    "    from IPython.core.getipython import get_ipython\n",
    "    shell = get_ipython()\n",
    "    content = \"%%writefile {TARGET}/{ANNOTATIONS}/{LABEL_MAP}\"\n",
    "    labels = list(get_labels())\n",
    "    for i in range(len(labels)):\n",
    "        content+='''\n",
    "item {{\n",
    "  id: {}\n",
    "  name: '{}'\n",
    "}}'''.format(i+1, labels[i])\n",
    "    content+=\"\\n\\n# generate_labemlap()\"\n",
    "    shell.set_next_input(content, replace=True)\n",
    "    print(\"Template created. Re-run this code-cell to save your labelmap file\")"
   ]
  },
  {
   "cell_type": "markdown",
   "metadata": {},
   "source": [
    "Running the following code-cell will create the basic template of your label map for you to edit. Once done, re-run the cell to save the labelmap file."
   ]
  },
  {
   "cell_type": "code",
   "execution_count": null,
   "metadata": {},
   "outputs": [],
   "source": [
    "generate_labemlap()"
   ]
  },
  {
   "cell_type": "markdown",
   "metadata": {},
   "source": [
    "Add Tensorflow's *`models`* and *`research`* packages to your *`PYTHONPATH`*"
   ]
  },
  {
   "cell_type": "code",
   "execution_count": null,
   "metadata": {},
   "outputs": [],
   "source": [
    "export['PYTHONPATH']=TF_OD_PATH+'/models/research/:' \n",
    "export['PYTHONPATH']+=TF_OD_PATH+'/:'"
   ]
  },
  {
   "cell_type": "markdown",
   "metadata": {},
   "source": [
    "Now we'll generate TF-Record files from out annotated images"
   ]
  },
  {
   "cell_type": "code",
   "execution_count": null,
   "metadata": {},
   "outputs": [],
   "source": [
    "!wget https://raw.githubusercontent.com/sglvladi/TensorFlowObjectDetectionTutorial/725f22217178537030fde9492a7cdb0a7fff4d80/docs/source/scripts/generate_tfrecord.py -c     \n",
    "\n",
    "!{python} generate_tfrecord.py -x {TARGET}/{IMAGES}/{TRAIN_DATA} -l {TARGET}/{ANNOTATIONS}/{LABEL_MAP} -o {TARGET}/{ANNOTATIONS}/train.record\n",
    "\n",
    "!{python} generate_tfrecord.py -x {TARGET}/{IMAGES}/{TEST_DATA} -l {TARGET}/{ANNOTATIONS}/{LABEL_MAP} -o {TARGET}/{ANNOTATIONS}/test.record\n",
    "\n"
   ]
  },
  {
   "cell_type": "markdown",
   "metadata": {},
   "source": [
    "## Pretrained Model "
   ]
  },
  {
   "cell_type": "markdown",
   "metadata": {},
   "source": [
    "### Tensorflow Model Zoo\n",
    "Download your desired model from Tensorflow's [model zoo](https://github.com/tensorflow/models/blob/master/research/object_detection/g3doc/tf2_detection_zoo.md). For this, you can set the variable *`MODEL_DOWNLOAD_LINK`* to the download link of the model file (.tar.gz) or you can directly set the model name (name of the .tar.gz) in the variable *`MODEL_NAME`*. "
   ]
  },
  {
   "cell_type": "code",
   "execution_count": null,
   "metadata": {},
   "outputs": [],
   "source": [
    "MODEL_DOWNLOAD_LINK = \"http://download.tensorflow.org/models/object_detection/tf2/20200711/efficientdet_d1_coco17_tpu-32.tar.gz\"\n",
    "MODEL_NAME = MODEL_DOWNLOAD_LINK[MODEL_DOWNLOAD_LINK.rindex('/')+1:MODEL_DOWNLOAD_LINK.index('.tar.gz')]\n",
    "\n",
    "## OR\n",
    "\n",
    "# MODEL_NAME = \"efficientdet_d1_coco17_tpu-32\""
   ]
  },
  {
   "cell_type": "markdown",
   "metadata": {},
   "source": [
    "The following code-cell downloads the model from tensorflow's model zoo and extracts into a PRETRAINED folder."
   ]
  },
  {
   "cell_type": "code",
   "execution_count": null,
   "metadata": {},
   "outputs": [],
   "source": [
    "!wget http://download.tensorflow.org/models/object_detection/tf2/20200711/{MODEL_NAME}.tar.gz -P {PRETRAINED} -c\n",
    "!tar -zxvf {PRETRAINED}/{MODEL_NAME}.tar.gz -C {PRETRAINED}"
   ]
  },
  {
   "cell_type": "markdown",
   "metadata": {},
   "source": [
    "### Custom Model\n",
    "\n",
    "If you want to use a custom model as your pretrained model, make sure to put it into the pretrained folder with proper checkpoints following the same folder structure as models from Tensorflow Model Zoo. Here *`MODEL_NAME`* is the name of the folder containing your custom model."
   ]
  },
  {
   "cell_type": "code",
   "execution_count": null,
   "metadata": {},
   "outputs": [],
   "source": [
    "MODEL_NAME = 'efficientdet_d1_coco17_tpu-32'"
   ]
  },
  {
   "cell_type": "markdown",
   "metadata": {},
   "source": [
    "## List Available Models\n",
    "\n",
    "You can display a list of all pretrained models in your PRETRAINED folder using the following code-cell."
   ]
  },
  {
   "cell_type": "code",
   "execution_count": null,
   "metadata": {},
   "outputs": [],
   "source": [
    "!ls {PRETRAINED} -I \"*.tar*\""
   ]
  },
  {
   "cell_type": "markdown",
   "metadata": {},
   "source": [
    "## Setup Your Training Config Pipeline"
   ]
  },
  {
   "cell_type": "markdown",
   "metadata": {},
   "source": [
    "Create required directories and import the `model-checkpoint` and the `configuration-pipeline`"
   ]
  },
  {
   "cell_type": "code",
   "execution_count": null,
   "metadata": {},
   "outputs": [],
   "source": [
    "!mkdir {TARGET}/{MODELS}/{MODEL_NAME}/\n",
    "!cp {PRETRAINED}/{MODEL_NAME}/pipeline.config {TARGET}/{MODELS}/{MODEL_NAME}/\n",
    "!cp {PRETRAINED}/{MODEL_NAME}/checkpoint/ckpt-0* {TARGET}/{MODELS}/{MODEL_NAME}/"
   ]
  },
  {
   "cell_type": "markdown",
   "metadata": {
    "jupyter": {
     "outputs_hidden": true
    },
    "tags": []
   },
   "source": [
    "### Update Your Configuration Pipeline\n",
    "\n",
    "Select your batch size as per your system's capacity"
   ]
  },
  {
   "cell_type": "code",
   "execution_count": null,
   "metadata": {},
   "outputs": [],
   "source": [
    "BATCH_SIZE = 2"
   ]
  },
  {
   "cell_type": "markdown",
   "metadata": {},
   "source": [
    "The following code-cell automatically updates your `configuration-pipeline`. You need not modify."
   ]
  },
  {
   "cell_type": "code",
   "execution_count": null,
   "metadata": {},
   "outputs": [],
   "source": [
    "import sys\n",
    "sys.path.append(TF_OD_PATH)\n",
    "\n",
    "import tensorflow as tf\n",
    "from google.protobuf import text_format\n",
    "from object_detection.protos import pipeline_pb2\n",
    "\n",
    "pipeline_config = pipeline_pb2.TrainEvalPipelineConfig()                                                                                                                                                                                                          \n",
    "\n",
    "with tf.io.gfile.GFile(\"{}/{}/{}/pipeline.config\".format(TARGET,MODELS,MODEL_NAME), \"r\") as f:                                                                                                                                                                                                                                       \n",
    "    text_format.Merge(f.read(), pipeline_config)       \n",
    "\n",
    "pipeline_config.model.ssd.num_classes = len(labels)\n",
    "pipeline_config.train_config.batch_size = BATCH_SIZE\n",
    "pipeline_config.train_config.fine_tune_checkpoint = \"\"+TARGET+\"/\"+MODELS+\"/\"+MODEL_NAME+\"/ckpt-0\"\n",
    "pipeline_config.train_config.fine_tune_checkpoint_type = \"detection\"\n",
    "pipeline_config.train_config.use_bfloat16 = False\n",
    "pipeline_config.train_input_reader.label_map_path  = \"\"+TARGET+\"/annotations/label_map.pbtxt\"\n",
    "pipeline_config.train_input_reader.tf_record_input_reader.input_path[0] = \"\"+TARGET+\"/\"+ANNOTATIONS+\"/train.record\"   \n",
    "pipeline_config.eval_input_reader[0].label_map_path  = \"\"+TARGET+\"/annotations/label_map.pbtxt\"\n",
    "pipeline_config.eval_input_reader[0].tf_record_input_reader.input_path[0] = \"\"+TARGET+\"/\"+ANNOTATIONS+\"/test.record\"                                                                                                                                                                                     \n",
    "                                                                                                                                                                                                         \n",
    "with tf.io.gfile.GFile(\"{}/{}/{}/pipeline.config\".format(TARGET,MODELS,MODEL_NAME), \"wb\") as f:                                                                                                                                                                                                                       \n",
    "    f.write(text_format.MessageToString(pipeline_config)) "
   ]
  },
  {
   "cell_type": "code",
   "execution_count": null,
   "metadata": {},
   "outputs": [],
   "source": [
    "# from pyutil import filereplace\n",
    "\n",
    "# for k,v in {\n",
    "    \n",
    "# \"num_classes:.*\": \"num_classes: {} # Set this to the number of different label classes\".format(len(labels)),\n",
    "\n",
    "# \"batch_size: 128\": \"batch_size: {} # Increase/Decrease this value depending on the available memory (Higher values require more memory and vice-versa)\".format(BATCH_SIZE),\n",
    "\n",
    "# \"fine_tune_checkpoint:.*\": \"fine_tune_checkpoint: \\\"\"+PRETRAINED+\"/\"+MODEL_NAME+\"/checkpoint/ckpt-0\\\" # Path to checkpoint of pre-trained model\",\n",
    "\n",
    "# \"fine_tune_checkpoint_type:.*\": \"fine_tune_checkpoint_type: \\\"detection\\\" # Set this to \\\"detection\\\" since we want to be training the full detection mode\",\n",
    "\n",
    "# \"use_bfloat16:.*\": \"use_bfloat16: false # Set this to false if you are not training on a TPU\",\n",
    "\n",
    "# \"label_map_path:.*\": \"label_map_path: \\\"\"+TARGET+\"/annotations/label_map.pbtxt\\\" # Path to label map file\",\n",
    "    \n",
    "# \"input_path:.*train.*\": \"input_path: \\\"\"+TARGET+\"/\"+ANNOTATIONS+\"/train.record\\\" # Path to testing TFRecord file\\n\",\n",
    "\n",
    "# \"input_path:.*val.*\": \"input_path: \\\"\"+TARGET+\"/\"+ANNOTATIONS+\"/test.record\\\" # Path to testing TFRecord file\\n\"\n",
    "\n",
    "# }.items():filereplace(\"{}/{}/{}/pipeline.config\".format(TARGET,MODELS,MODEL_NAME),k, v)\n",
    "\n"
   ]
  },
  {
   "cell_type": "markdown",
   "metadata": {},
   "source": [
    "Copy model trainer script from tensorflow's `object_detection` folder."
   ]
  },
  {
   "cell_type": "markdown",
   "metadata": {},
   "source": [
    "The following code adds options to enable memory-growth while using GPU for training."
   ]
  },
  {
   "cell_type": "code",
   "execution_count": null,
   "metadata": {},
   "outputs": [],
   "source": [
    "!pip install pyutil\n",
    "from pyutil import filereplace\n",
    "\n",
    "!cp {TF_OD_PATH}/object_detection/model_main_tf2.py .\n",
    "!cp {TF_OD_PATH}/object_detection/exporter_main_v2.py .\n",
    "\n",
    "filereplace(\"model_main_tf2.py\",\"FLAGS = flags.FLAGS\", \n",
    "'''flags.DEFINE_boolean('allow_growth', False,\n",
    "    ('Whether or not to limit gpu memory growth.'))\n",
    "    \n",
    "FLAGS = flags.FLAGS'''\n",
    ")\n",
    "\n",
    "filereplace(\"model_main_tf2.py\",\"if FLAGS.checkpoint_dir:\",\n",
    "'''if FLAGS.allow_growth:\n",
    "    gpus = tf.config.list_physical_devices('GPU')\n",
    "    if gpus:\n",
    "      try:\n",
    "        # Currently, memory growth needs to be the same across GPUs\n",
    "        for gpu in gpus:\n",
    "          tf.config.experimental.set_memory_growth(gpu, True)\n",
    "      except RuntimeError as e:\n",
    "        # Memory growth must be set before GPUs have been initialized\n",
    "        pass\n",
    "        \n",
    "  if FLAGS.checkpoint_dir:'''\n",
    ")"
   ]
  },
  {
   "cell_type": "markdown",
   "metadata": {},
   "source": [
    "## Start Training"
   ]
  },
  {
   "cell_type": "markdown",
   "metadata": {},
   "source": [
    "### cuDNN Reference for GPU \n",
    "\n",
    "Set reference to your cuDNN"
   ]
  },
  {
   "cell_type": "code",
   "execution_count": null,
   "metadata": {},
   "outputs": [],
   "source": [
    "!pwd\n",
    "export['LD_LIBRARY_PATH']='../cuDNN8/cuda/lib64/'"
   ]
  },
  {
   "cell_type": "code",
   "execution_count": null,
   "metadata": {},
   "outputs": [],
   "source": []
  },
  {
   "cell_type": "markdown",
   "metadata": {},
   "source": [
    "### Launch Script\n",
    "\n",
    "Finally launch your training pipeline."
   ]
  },
  {
   "cell_type": "code",
   "execution_count": null,
   "metadata": {
    "scrolled": true,
    "tags": []
   },
   "outputs": [],
   "source": [
    "!rm -rf {TARGET}/{MODELS}/{MODEL_NAME}/train\n",
    "!{python} -u model_main_tf2.py --model_dir={TARGET}/{MODELS}/{MODEL_NAME} --pipeline_config_path={TARGET}/{MODELS}/{MODEL_NAME}/pipeline.config --allow_growth | sed -e '/loss=nan/q'"
   ]
  },
  {
   "cell_type": "markdown",
   "metadata": {},
   "source": [
    "# Checkpoint Validation"
   ]
  },
  {
   "cell_type": "code",
   "execution_count": null,
   "metadata": {},
   "outputs": [],
   "source": [
    "# MODEL_NAME = ??? \n",
    "\n",
    "if 'MODEL_NAME' not in vars():\n",
    "    MODEL_NAME = !ls -1 {TARGET}/{MODELS}/\n",
    "    if len(MODEL_NAME) != 1:\n",
    "        del MODEL_NAME\n",
    "        raise SystemExit('''\n",
    "Could not determine model name. Please specify above.\n",
    "        ''')\n",
    "    else:\n",
    "        MODEL_NAME = MODEL_NAME[0]\n",
    "\n",
    "MODEL_NAME"
   ]
  },
  {
   "cell_type": "code",
   "execution_count": null,
   "metadata": {},
   "outputs": [],
   "source": [
    "import sys\n",
    "sys.path.append(TF_OD_PATH)\n",
    "sys.path.append(TF_OD_PATH+'/../')\n",
    "\n",
    "import time\n",
    "from object_detection.utils import label_map_util\n",
    "from object_detection.utils import config_util\n",
    "from object_detection.utils import visualization_utils as viz_utils\n",
    "from object_detection.builders import model_builder\n",
    "import tensorflow as tf\n",
    "import os\n",
    "\n",
    "PATH_TO_CFG = \"{}/{}/{}/pipeline.config\".format(TARGET,MODELS,MODEL_NAME)\n",
    "PATH_TO_CKPT = \"{}/{}/{}\".format(TARGET,MODELS,MODEL_NAME)\n",
    "\n",
    "print('Loading model... ', end='')\n",
    "start_time = time.time()\n",
    "\n",
    "# Load pipeline config and build a detection model\n",
    "configs = config_util.get_configs_from_pipeline_file(PATH_TO_CFG)\n",
    "model_config = configs['model']\n",
    "detection_model = model_builder.build(model_config=model_config, is_training=False)\n",
    "\n",
    "# Restore latest checkpoint\n",
    "latest = next(open(\"{}/{}/{}/checkpoint\".format(TARGET,MODELS,MODEL_NAME)))\n",
    "latest = latest[latest.index(\"\\\"\")+1:latest.rindex(\"\\\"\")]\n",
    "print(latest)\n",
    "ckpt = tf.compat.v2.train.Checkpoint(model=detection_model)\n",
    "ckpt.restore(os.path.join(PATH_TO_CKPT, latest)).expect_partial()\n",
    "\n",
    "@tf.function\n",
    "def detect_fn(image):\n",
    "    \"\"\"Detect objects in image.\"\"\"\n",
    "\n",
    "    image, shapes = detection_model.preprocess(image)\n",
    "    prediction_dict = detection_model.predict(image, shapes)\n",
    "    detections = detection_model.postprocess(prediction_dict, shapes)\n",
    "\n",
    "    return detections\n",
    "\n",
    "end_time = time.time()\n",
    "elapsed_time = end_time - start_time\n",
    "print('Done! Took {} seconds'.format(elapsed_time))"
   ]
  },
  {
   "cell_type": "code",
   "execution_count": null,
   "metadata": {},
   "outputs": [],
   "source": [
    "PATH_TO_LABELS = \"{}/{}/{}\".format(TARGET,ANNOTATIONS,LABEL_MAP)\n",
    "category_index = label_map_util.create_category_index_from_labelmap(PATH_TO_LABELS, use_display_name=True)"
   ]
  },
  {
   "cell_type": "code",
   "execution_count": null,
   "metadata": {},
   "outputs": [],
   "source": [
    "!pwd"
   ]
  },
  {
   "cell_type": "code",
   "execution_count": null,
   "metadata": {},
   "outputs": [],
   "source": [
    "import pathlib\n",
    "import tensorflow as tf\n",
    "\n",
    "def download_images():\n",
    "    base_url = 'file:///home/uniquetrij/Projects/jupyter-lab/tf2-object-detection-trainer/targets/{}/inference/'.format(TARGET)\n",
    "    filenames = ['image_01.jpg','image_02.jpg','image_03.jpg']\n",
    "    image_paths = []\n",
    "    for filename in filenames:\n",
    "        image_path = tf.keras.utils.get_file(fname=filename,\n",
    "                                            origin=base_url + filename,\n",
    "                                            untar=False)\n",
    "        image_path = pathlib.Path(image_path)\n",
    "        image_paths.append(str(image_path))\n",
    "    return image_paths\n",
    "\n",
    "IMAGE_PATHS = download_images()\n",
    "print(IMAGE_PATHS)"
   ]
  },
  {
   "cell_type": "code",
   "execution_count": null,
   "metadata": {},
   "outputs": [],
   "source": [
    "%matplotlib inline\n",
    "import numpy as np\n",
    "from PIL import Image\n",
    "import matplotlib.pyplot as plt\n",
    "import warnings\n",
    "warnings.filterwarnings('ignore')   # Suppress Matplotlib warnings\n",
    "\n",
    "def load_image_into_numpy_array(path):\n",
    "    \"\"\"Load an image from file into a numpy array.\n",
    "\n",
    "    Puts image into numpy array to feed into tensorflow graph.\n",
    "    Note that by convention we put it into a numpy array with shape\n",
    "    (height, width, channels), where channels=3 for RGB.\n",
    "\n",
    "    Args:\n",
    "      path: the file path to the image\n",
    "\n",
    "    Returns:\n",
    "      uint8 numpy array with shape (img_height, img_width, 3)\n",
    "    \"\"\"\n",
    "    return np.array(Image.open(path))\n",
    "\n",
    "\n",
    "for image_path in IMAGE_PATHS:\n",
    "\n",
    "    print('Running inference for {}... '.format(image_path), end='')\n",
    "\n",
    "    image_np = load_image_into_numpy_array(image_path)\n",
    "\n",
    "    # Things to try:\n",
    "    # Flip horizontally\n",
    "    # image_np = np.fliplr(image_np).copy()\n",
    "\n",
    "    # Convert image to grayscale\n",
    "    # image_np = np.tile(\n",
    "    #     np.mean(image_np, 2, keepdims=True), (1, 1, 3)).astype(np.uint8)\n",
    "\n",
    "    input_tensor = tf.convert_to_tensor(np.expand_dims(image_np, 0), dtype=tf.float32)\n",
    "    detections = detect_fn(input_tensor)\n",
    "\n",
    "    # All outputs are batches tensors.\n",
    "    # Convert to numpy arrays, and take index [0] to remove the batch dimension.\n",
    "    # We're only interested in the first num_detections.\n",
    "    num_detections = int(detections.pop('num_detections'))\n",
    "    detections = {key: value[0, :num_detections].numpy()\n",
    "                  for key, value in detections.items()}\n",
    "    detections['num_detections'] = num_detections\n",
    "\n",
    "    # detection_classes should be ints.\n",
    "    detections['detection_classes'] = detections['detection_classes'].astype(np.int64)\n",
    "\n",
    "    label_id_offset = 1\n",
    "    image_np_with_detections = image_np.copy()\n",
    "\n",
    "    viz_utils.visualize_boxes_and_labels_on_image_array(\n",
    "            image_np_with_detections,\n",
    "            detections['detection_boxes'],\n",
    "            detections['detection_classes']+label_id_offset,\n",
    "            detections['detection_scores'],\n",
    "            category_index,\n",
    "            use_normalized_coordinates=True,\n",
    "            max_boxes_to_draw=200,\n",
    "            min_score_thresh=.5,\n",
    "            agnostic_mode=False)\n",
    "\n",
    "    plt.figure(figsize=(10, 10))\n",
    "    \n",
    "    plt.imshow(image_np_with_detections)\n",
    "    \n",
    "    print('Done')\n",
    "plt.show()\n",
    "\n",
    "# sphinx_gallery_thumbnail_number = 2"
   ]
  },
  {
   "cell_type": "markdown",
   "metadata": {},
   "source": [
    "## Export Model"
   ]
  },
  {
   "cell_type": "code",
   "execution_count": null,
   "metadata": {},
   "outputs": [],
   "source": [
    "# MODEL_NAME = ??? \n",
    "\n",
    "if 'MODEL_NAME' not in vars():\n",
    "    MODEL_NAME = !ls -1 {TARGET}/{MODELS}/\n",
    "    if len(MODEL_NAME) != 1:\n",
    "        del MODEL_NAME\n",
    "        raise SystemExit('''\n",
    "Could not determine model name. Please specify above.\n",
    "        ''')\n",
    "    else:\n",
    "        MODEL_NAME = MODEL_NAME[0]\n",
    "\n",
    "MODEL_NAME"
   ]
  },
  {
   "cell_type": "code",
   "execution_count": null,
   "metadata": {
    "tags": []
   },
   "outputs": [],
   "source": [
    "!{python} exporter_main_v2.py --input_type=image_tensor --pipeline_config_path={TARGET}/{MODELS}/{MODEL_NAME}/pipeline.config --trained_checkpoint_dir={TARGET}/{MODELS}/{MODEL_NAME} --output_directory={TARGET}/{EXPORTED}/{MODEL_NAME}\n",
    "!cp {TARGET}/{ANNOTATIONS}/{LABEL_MAP} {TARGET}/{EXPORTED}/{MODEL_NAME}"
   ]
  },
  {
   "cell_type": "markdown",
   "metadata": {},
   "source": [
    "# Exported Model Validation"
   ]
  },
  {
   "cell_type": "code",
   "execution_count": null,
   "metadata": {
    "tags": []
   },
   "outputs": [],
   "source": [
    "import time\n",
    "from object_detection.utils import label_map_util\n",
    "from object_detection.utils import visualization_utils as viz_utils\n",
    "\n",
    "PATH_TO_SAVED_MODEL = \"{}/{}/{}/saved_model\".format(TARGET,EXPORTED,MODEL_NAME)\n",
    "\n",
    "print('Loading model...', end='')\n",
    "start_time = time.time()\n",
    "\n",
    "# Load saved model and build the detection function\n",
    "detect_fn = tf.saved_model.load(PATH_TO_SAVED_MODEL)\n",
    "\n",
    "end_time = time.time()\n",
    "elapsed_time = end_time - start_time\n",
    "print('Done! Took {} seconds'.format(elapsed_time))"
   ]
  },
  {
   "cell_type": "code",
   "execution_count": null,
   "metadata": {},
   "outputs": [],
   "source": [
    "%matplotlib inline\n",
    "import numpy as np\n",
    "from PIL import Image\n",
    "import matplotlib.pyplot as plt\n",
    "import warnings\n",
    "warnings.filterwarnings('ignore')   # Suppress Matplotlib warnings\n",
    "\n",
    "def load_image_into_numpy_array(path):\n",
    "    \"\"\"Load an image from file into a numpy array.\n",
    "\n",
    "    Puts image into numpy array to feed into tensorflow graph.\n",
    "    Note that by convention we put it into a numpy array with shape\n",
    "    (height, width, channels), where channels=3 for RGB.\n",
    "\n",
    "    Args:\n",
    "      path: the file path to the image\n",
    "\n",
    "    Returns:\n",
    "      uint8 numpy array with shape (img_height, img_width, 3)\n",
    "    \"\"\"\n",
    "    return np.array(Image.open(path))\n",
    "\n",
    "\n",
    "for image_path in IMAGE_PATHS:\n",
    "\n",
    "    print('Running inference for {}... '.format(image_path), end='')\n",
    "\n",
    "    image_np = load_image_into_numpy_array(image_path)\n",
    "\n",
    "    # Things to try:\n",
    "    # Flip horizontally\n",
    "    # image_np = np.fliplr(image_np).copy()\n",
    "\n",
    "    # Convert image to grayscale\n",
    "    # image_np = np.tile(\n",
    "    #     np.mean(image_np, 2, keepdims=True), (1, 1, 3)).astype(np.uint8)\n",
    "\n",
    "    # The input needs to be a tensor, convert it using `tf.convert_to_tensor`.\n",
    "    input_tensor = tf.convert_to_tensor(image_np)\n",
    "    # The model expects a batch of images, so add an axis with `tf.newaxis`.\n",
    "    input_tensor = input_tensor[tf.newaxis, ...]\n",
    "\n",
    "    # input_tensor = np.expand_dims(image_np, 0)\n",
    "    detections = detect_fn(input_tensor)\n",
    "\n",
    "    # All outputs are batches tensors.\n",
    "    # Convert to numpy arrays, and take index [0] to remove the batch dimension.\n",
    "    # We're only interested in the first num_detections.\n",
    "    num_detections = int(detections.pop('num_detections'))\n",
    "    detections = {key: value[0, :num_detections].numpy()\n",
    "                   for key, value in detections.items()}\n",
    "    detections['num_detections'] = num_detections\n",
    "\n",
    "    # detection_classes should be ints.\n",
    "    detections['detection_classes'] = detections['detection_classes'].astype(np.int64)\n",
    "\n",
    "    image_np_with_detections = image_np.copy()\n",
    "\n",
    "    viz_utils.visualize_boxes_and_labels_on_image_array(\n",
    "          image_np_with_detections,\n",
    "          detections['detection_boxes'],\n",
    "          detections['detection_classes'],\n",
    "          detections['detection_scores'],\n",
    "          category_index,\n",
    "          use_normalized_coordinates=True,\n",
    "          max_boxes_to_draw=200,\n",
    "          min_score_thresh=.5,\n",
    "          agnostic_mode=False)\n",
    "\n",
    "    plt.figure(figsize=(10, 10))\n",
    "    plt.imshow(image_np_with_detections)\n",
    "    print('Done')\n",
    "plt.show()\n",
    "\n",
    "# sphinx_gallery_thumbnail_number = 2"
   ]
  }
 ],
 "metadata": {
  "kernelspec": {
   "display_name": "Python 3",
   "language": "python",
   "name": "python3"
  },
  "language_info": {
   "codemirror_mode": {
    "name": "ipython",
    "version": 3
   },
   "file_extension": ".py",
   "mimetype": "text/x-python",
   "name": "python",
   "nbconvert_exporter": "python",
   "pygments_lexer": "ipython3",
   "version": "3.7.9"
  }
 },
 "nbformat": 4,
 "nbformat_minor": 4
}
